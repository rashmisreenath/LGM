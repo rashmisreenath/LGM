{
 "cells": [
  {
   "cell_type": "code",
   "execution_count": null,
   "id": "dc025010",
   "metadata": {},
   "outputs": [],
   "source": [
    "LGM -VIP"
   ]
  },
  {
   "cell_type": "code",
   "execution_count": null,
   "id": "a155207e",
   "metadata": {},
   "outputs": [],
   "source": [
    "Rashmi S"
   ]
  },
  {
   "cell_type": "code",
   "execution_count": null,
   "id": "a02bd313",
   "metadata": {},
   "outputs": [],
   "source": [
    "Handwritten equation solver using CNN"
   ]
  },
  {
   "cell_type": "code",
   "execution_count": 1,
   "id": "5440e038",
   "metadata": {
    "execution": {
     "iopub.execute_input": "2022-05-07T09:07:05.339507Z",
     "iopub.status.busy": "2022-05-07T09:07:05.338897Z",
     "iopub.status.idle": "2022-05-07T09:07:13.350573Z",
     "shell.execute_reply": "2022-05-07T09:07:13.349509Z"
    },
    "papermill": {
     "duration": 8.029508,
     "end_time": "2022-05-07T09:07:13.353167",
     "exception": false,
     "start_time": "2022-05-07T09:07:05.323659",
     "status": "completed"
    },
    "tags": []
   },
   "outputs": [],
   "source": [
    "import numpy as np\n",
    "import os\n",
    "import PIL\n",
    "import PIL.Image\n",
    "import pandas as pd\n",
    "import pathlib\n",
    "from PIL import Image\n",
    "import matplotlib.image as mpimg\n",
    "import matplotlib.pyplot as plt\n",
    "from sklearn.model_selection import train_test_split\n",
    "from sklearn.manifold import TSNE\n",
    "import seaborn as sns\n",
    "from sklearn.preprocessing import LabelBinarizer\n",
    "from tensorflow.keras.utils import to_categorical\n",
    "import cv2"
   ]
  },
  {
   "cell_type": "code",
   "execution_count": 2,
   "id": "f84a4e10",
   "metadata": {
    "execution": {
     "iopub.execute_input": "2022-05-07T09:07:13.388744Z",
     "iopub.status.busy": "2022-05-07T09:07:13.388431Z",
     "iopub.status.idle": "2022-05-07T09:19:18.360080Z",
     "shell.execute_reply": "2022-05-07T09:19:18.359029Z"
    },
    "papermill": {
     "duration": 725.008121,
     "end_time": "2022-05-07T09:19:18.376715",
     "exception": false,
     "start_time": "2022-05-07T09:07:13.368594",
     "status": "completed"
    },
    "tags": []
   },
   "outputs": [
    {
     "data": {
      "text/html": [
       "<div>\n",
       "<style scoped>\n",
       "    .dataframe tbody tr th:only-of-type {\n",
       "        vertical-align: middle;\n",
       "    }\n",
       "\n",
       "    .dataframe tbody tr th {\n",
       "        vertical-align: top;\n",
       "    }\n",
       "\n",
       "    .dataframe thead th {\n",
       "        text-align: right;\n",
       "    }\n",
       "</style>\n",
       "<table border=\"1\" class=\"dataframe\">\n",
       "  <thead>\n",
       "    <tr style=\"text-align: right;\">\n",
       "      <th></th>\n",
       "      <th>0</th>\n",
       "      <th>1</th>\n",
       "      <th>2</th>\n",
       "      <th>3</th>\n",
       "      <th>4</th>\n",
       "      <th>5</th>\n",
       "      <th>6</th>\n",
       "      <th>7</th>\n",
       "      <th>8</th>\n",
       "      <th>9</th>\n",
       "      <th>...</th>\n",
       "      <th>55</th>\n",
       "      <th>56</th>\n",
       "      <th>57</th>\n",
       "      <th>58</th>\n",
       "      <th>59</th>\n",
       "      <th>60</th>\n",
       "      <th>61</th>\n",
       "      <th>62</th>\n",
       "      <th>63</th>\n",
       "      <th>label</th>\n",
       "    </tr>\n",
       "  </thead>\n",
       "  <tbody>\n",
       "    <tr>\n",
       "      <th>20770</th>\n",
       "      <td>255</td>\n",
       "      <td>255</td>\n",
       "      <td>255</td>\n",
       "      <td>253</td>\n",
       "      <td>254</td>\n",
       "      <td>254</td>\n",
       "      <td>255</td>\n",
       "      <td>255</td>\n",
       "      <td>255</td>\n",
       "      <td>255</td>\n",
       "      <td>...</td>\n",
       "      <td>255</td>\n",
       "      <td>255</td>\n",
       "      <td>255</td>\n",
       "      <td>255</td>\n",
       "      <td>254</td>\n",
       "      <td>207</td>\n",
       "      <td>254</td>\n",
       "      <td>255</td>\n",
       "      <td>255</td>\n",
       "      <td>1</td>\n",
       "    </tr>\n",
       "    <tr>\n",
       "      <th>48102</th>\n",
       "      <td>255</td>\n",
       "      <td>254</td>\n",
       "      <td>210</td>\n",
       "      <td>255</td>\n",
       "      <td>254</td>\n",
       "      <td>253</td>\n",
       "      <td>255</td>\n",
       "      <td>255</td>\n",
       "      <td>255</td>\n",
       "      <td>255</td>\n",
       "      <td>...</td>\n",
       "      <td>255</td>\n",
       "      <td>255</td>\n",
       "      <td>255</td>\n",
       "      <td>255</td>\n",
       "      <td>254</td>\n",
       "      <td>222</td>\n",
       "      <td>255</td>\n",
       "      <td>254</td>\n",
       "      <td>255</td>\n",
       "      <td>4</td>\n",
       "    </tr>\n",
       "    <tr>\n",
       "      <th>64039</th>\n",
       "      <td>255</td>\n",
       "      <td>255</td>\n",
       "      <td>255</td>\n",
       "      <td>255</td>\n",
       "      <td>255</td>\n",
       "      <td>255</td>\n",
       "      <td>255</td>\n",
       "      <td>255</td>\n",
       "      <td>255</td>\n",
       "      <td>255</td>\n",
       "      <td>...</td>\n",
       "      <td>255</td>\n",
       "      <td>255</td>\n",
       "      <td>255</td>\n",
       "      <td>255</td>\n",
       "      <td>255</td>\n",
       "      <td>255</td>\n",
       "      <td>255</td>\n",
       "      <td>255</td>\n",
       "      <td>255</td>\n",
       "      <td>6</td>\n",
       "    </tr>\n",
       "    <tr>\n",
       "      <th>49767</th>\n",
       "      <td>255</td>\n",
       "      <td>255</td>\n",
       "      <td>255</td>\n",
       "      <td>255</td>\n",
       "      <td>190</td>\n",
       "      <td>253</td>\n",
       "      <td>255</td>\n",
       "      <td>255</td>\n",
       "      <td>255</td>\n",
       "      <td>255</td>\n",
       "      <td>...</td>\n",
       "      <td>255</td>\n",
       "      <td>255</td>\n",
       "      <td>255</td>\n",
       "      <td>255</td>\n",
       "      <td>254</td>\n",
       "      <td>255</td>\n",
       "      <td>255</td>\n",
       "      <td>255</td>\n",
       "      <td>255</td>\n",
       "      <td>4</td>\n",
       "    </tr>\n",
       "    <tr>\n",
       "      <th>94606</th>\n",
       "      <td>255</td>\n",
       "      <td>255</td>\n",
       "      <td>255</td>\n",
       "      <td>255</td>\n",
       "      <td>255</td>\n",
       "      <td>255</td>\n",
       "      <td>255</td>\n",
       "      <td>255</td>\n",
       "      <td>255</td>\n",
       "      <td>255</td>\n",
       "      <td>...</td>\n",
       "      <td>255</td>\n",
       "      <td>255</td>\n",
       "      <td>255</td>\n",
       "      <td>255</td>\n",
       "      <td>255</td>\n",
       "      <td>255</td>\n",
       "      <td>255</td>\n",
       "      <td>255</td>\n",
       "      <td>255</td>\n",
       "      <td>6</td>\n",
       "    </tr>\n",
       "  </tbody>\n",
       "</table>\n",
       "<p>5 rows × 65 columns</p>\n",
       "</div>"
      ],
      "text/plain": [
       "         0    1    2    3    4    5    6    7    8    9  ...   55   56   57  \\\n",
       "20770  255  255  255  253  254  254  255  255  255  255  ...  255  255  255   \n",
       "48102  255  254  210  255  254  253  255  255  255  255  ...  255  255  255   \n",
       "64039  255  255  255  255  255  255  255  255  255  255  ...  255  255  255   \n",
       "49767  255  255  255  255  190  253  255  255  255  255  ...  255  255  255   \n",
       "94606  255  255  255  255  255  255  255  255  255  255  ...  255  255  255   \n",
       "\n",
       "        58   59   60   61   62   63  label  \n",
       "20770  255  254  207  254  255  255      1  \n",
       "48102  255  254  222  255  254  255      4  \n",
       "64039  255  255  255  255  255  255      6  \n",
       "49767  255  254  255  255  255  255      4  \n",
       "94606  255  255  255  255  255  255      6  \n",
       "\n",
       "[5 rows x 65 columns]"
      ]
     },
     "execution_count": 2,
     "metadata": {},
     "output_type": "execute_result"
    }
   ],
   "source": [
    "folders=os.listdir( '/kaggle/input/handwrittenmathsymbols/extracted_images/')\n",
    "data = []\n",
    "label = []\n",
    "m=0\n",
    "for each in folders:\n",
    "    currentFolder = '/kaggle/input/handwrittenmathsymbols/extracted_images/' + each\n",
    "    for i, file in enumerate(os.listdir(currentFolder)):\n",
    "        im= cv2.imread((os.path.join(currentFolder, file)))\n",
    "        img=cv2.cvtColor(im,cv2.COLOR_BGR2GRAY)\n",
    "        resized_image = cv2.resize(img, (8,8))\n",
    "        img = img = np.array(resized_image)\n",
    "        img = img.ravel()\n",
    "        img = img.tolist()\n",
    "        data.append(img)\n",
    "        label.append(m)\n",
    "    m+=1\n",
    "df = pd.DataFrame(data)\n",
    "df[\"label\"] = label\n",
    "\n",
    "df = df.sample(frac=1)\n",
    "df.head()"
   ]
  },
  {
   "cell_type": "code",
   "execution_count": 3,
   "id": "0c69cbe4",
   "metadata": {
    "execution": {
     "iopub.execute_input": "2022-05-07T09:19:18.404986Z",
     "iopub.status.busy": "2022-05-07T09:19:18.404420Z",
     "iopub.status.idle": "2022-05-07T09:19:18.498428Z",
     "shell.execute_reply": "2022-05-07T09:19:18.497638Z"
    },
    "papermill": {
     "duration": 0.110987,
     "end_time": "2022-05-07T09:19:18.500947",
     "exception": false,
     "start_time": "2022-05-07T09:19:18.389960",
     "status": "completed"
    },
    "tags": []
   },
   "outputs": [],
   "source": [
    "df_new = df.sample(frac=1)\n",
    "X_train, X_test, y_train, y_test = train_test_split(df_new.iloc[:,:-1], df_new.iloc[:,-1], test_size=0.3, shuffle=False)"
   ]
  },
  {
   "cell_type": "code",
   "execution_count": 4,
   "id": "59ed622a",
   "metadata": {
    "execution": {
     "iopub.execute_input": "2022-05-07T09:19:18.530465Z",
     "iopub.status.busy": "2022-05-07T09:19:18.530150Z",
     "iopub.status.idle": "2022-05-07T09:19:18.539039Z",
     "shell.execute_reply": "2022-05-07T09:19:18.537895Z"
    },
    "papermill": {
     "duration": 0.027248,
     "end_time": "2022-05-07T09:19:18.541739",
     "exception": false,
     "start_time": "2022-05-07T09:19:18.514491",
     "status": "completed"
    },
    "tags": []
   },
   "outputs": [
    {
     "name": "stdout",
     "output_type": "stream",
     "text": [
      "Training dataset contains:  (67500, 64)  data\n",
      "Testing dataset contains:  (28929, 64)  data\n",
      "Validation dataset contains:  (67500,)  data\n",
      "Validation dataset contains:  (28929,)  data\n"
     ]
    }
   ],
   "source": [
    "print('Training dataset contains: ', X_train.shape, ' data')\n",
    "print('Testing dataset contains: ', X_test.shape, ' data')\n",
    "print('Validation dataset contains: ', y_train.shape, ' data')\n",
    "print('Validation dataset contains: ', y_test.shape, ' data')"
   ]
  },
  {
   "cell_type": "code",
   "execution_count": 5,
   "id": "6031e211",
   "metadata": {
    "execution": {
     "iopub.execute_input": "2022-05-07T09:19:18.571506Z",
     "iopub.status.busy": "2022-05-07T09:19:18.570627Z",
     "iopub.status.idle": "2022-05-07T09:19:18.590960Z",
     "shell.execute_reply": "2022-05-07T09:19:18.589722Z"
    },
    "papermill": {
     "duration": 0.037834,
     "end_time": "2022-05-07T09:19:18.593748",
     "exception": false,
     "start_time": "2022-05-07T09:19:18.555914",
     "status": "completed"
    },
    "tags": []
   },
   "outputs": [],
   "source": [
    "from sklearn.metrics import classification_report\n",
    "\n",
    "def svm_model(X_train, X_test, y_train, y_test):\n",
    "    from sklearn import svm\n",
    "    svm_classifier = svm.SVC(kernel='rbf',gamma=0.001,C=5)\n",
    "    svm_classifier.fit(X_train, y_train)\n",
    "    predicted = svm_classifier.predict(X_test)\n",
    "    Predicted = np.argmax(predicted, axis=1)\n",
    "    print(classification_report(y_test.argmax(axis=1), Predicted,target_names=lb.classes_))\n",
    "\n",
    "def gaussian_naive_bayes(X_train, X_test, y_train, y_test):\n",
    "    from sklearn.naive_bayes import GaussianNB\n",
    "    GNB_classifier = GaussianNB()\n",
    "    GNB_classifier.fit(X_train, y_train)\n",
    "    predicted = GNB_classifier.predict(X_test)\n",
    "    accuracy = (len(X_test[predicted == y_test]) / len(X_test)) * 100\n",
    "    return accuracy\n",
    "\n",
    "def decision_tree(X_train, X_test, y_train, y_test):\n",
    "    from sklearn import tree\n",
    "    dt_classifier = tree.DecisionTreeClassifier()\n",
    "    dt_classifier.fit(X_train, y_train)\n",
    "    predicted = dt_classifier.predict(X_test)\n",
    "    accuracy = (len(X_test[predicted == y_test]) / len(X_test)) * 100\n",
    "    return accuracy\n",
    "\n",
    "def random_forest(X_train, X_test, y_train, y_test):\n",
    "    from sklearn.ensemble import RandomForestClassifier\n",
    "    RF_classifier = RandomForestClassifier(max_depth=2, random_state=0)\n",
    "    RF_classifier.fit(X_train, y_train)\n",
    "    predicted = RF_classifier.predict(X_test)\n",
    "    accuracy = (len(X_test[predicted == y_test]) / len(X_test)) * 100\n",
    "    return accuracy\n",
    "\n",
    "def k_nearest_neighbors(X_train, X_test, y_train, y_test):\n",
    "    from sklearn.neighbors import KNeighborsClassifier\n",
    "    KNN_classifier = KNeighborsClassifier(n_neighbors=5, metric='euclidean')\n",
    "    KNN_classifier.fit(X_train, y_train)\n",
    "    predicted = KNN_classifier.predict(X_test)\n",
    "    accuracy = (len(X_test[predicted == y_test]) / len(X_test)) * 100\n",
    "    return accuracy\n",
    "\n",
    "def stochastic_gradient_decend(X_train, X_test, y_train, y_test):\n",
    "    from sklearn.linear_model import SGDClassifier\n",
    "    sgd_classifier = SGDClassifier(loss=\"hinge\", penalty=\"l2\", max_iter=5)\n",
    "    sgd_classifier.fit(X_train, y_train)\n",
    "    predicted = sgd_classifier.predict(X_test)\n",
    "    accuracy = (len(X_test[predicted == y_test]) / len(X_test)) * 100\n",
    "    return accuracy\n",
    "\n",
    "def xgboost(X_train, X_test, y_train, y_test):\n",
    "    from xgboost import XGBClassifier\n",
    "    model = XGBClassifier()\n",
    "    model.fit(X_train, y_train)\n",
    "    # make predictions for test data\n",
    "    predicted = model.predict(X_test)\n",
    "    accuracy = (len(X_test[predicted == y_test]) / len(X_test)) * 100\n",
    "    return accuracy\n",
    "\n",
    "def using_tsne(X_train,y_train):\n",
    "\n",
    "    tsne = TSNE()\n",
    "    X_embedded = tsne.fit_transform(X_train)\n",
    "    sns.scatterplot(X_embedded[:, 0], X_embedded[:, 1], hue=y_train, legend='full', palette=palette)\n",
    "    plt.show()"
   ]
  },
  {
   "cell_type": "code",
   "execution_count": 6,
   "id": "619420f4",
   "metadata": {
    "execution": {
     "iopub.execute_input": "2022-05-07T09:19:18.624293Z",
     "iopub.status.busy": "2022-05-07T09:19:18.623960Z",
     "iopub.status.idle": "2022-05-07T09:20:07.020034Z",
     "shell.execute_reply": "2022-05-07T09:20:07.019008Z"
    },
    "papermill": {
     "duration": 48.427857,
     "end_time": "2022-05-07T09:20:07.036347",
     "exception": false,
     "start_time": "2022-05-07T09:19:18.608490",
     "status": "completed"
    },
    "tags": []
   },
   "outputs": [
    {
     "data": {
      "text/plain": [
       "91.53098966435064"
      ]
     },
     "execution_count": 6,
     "metadata": {},
     "output_type": "execute_result"
    }
   ],
   "source": [
    "k_nearest_neighbors(X_train, X_test, y_train, y_test)"
   ]
  },
  {
   "cell_type": "code",
   "execution_count": 7,
   "id": "66922775",
   "metadata": {
    "execution": {
     "iopub.execute_input": "2022-05-07T09:20:07.066414Z",
     "iopub.status.busy": "2022-05-07T09:20:07.066080Z",
     "iopub.status.idle": "2022-05-07T09:20:09.552090Z",
     "shell.execute_reply": "2022-05-07T09:20:09.550862Z"
    },
    "papermill": {
     "duration": 2.504637,
     "end_time": "2022-05-07T09:20:09.554714",
     "exception": false,
     "start_time": "2022-05-07T09:20:07.050077",
     "status": "completed"
    },
    "tags": []
   },
   "outputs": [
    {
     "name": "stdout",
     "output_type": "stream",
     "text": [
      "71.88979916346918\n"
     ]
    }
   ],
   "source": [
    "print(random_forest(X_train, X_test, y_train, y_test))"
   ]
  },
  {
   "cell_type": "code",
   "execution_count": 8,
   "id": "239f61d3",
   "metadata": {
    "execution": {
     "iopub.execute_input": "2022-05-07T09:20:09.585034Z",
     "iopub.status.busy": "2022-05-07T09:20:09.584686Z",
     "iopub.status.idle": "2022-05-07T09:20:10.699481Z",
     "shell.execute_reply": "2022-05-07T09:20:10.698466Z"
    },
    "papermill": {
     "duration": 1.132452,
     "end_time": "2022-05-07T09:20:10.701532",
     "exception": false,
     "start_time": "2022-05-07T09:20:09.569080",
     "status": "completed"
    },
    "tags": []
   },
   "outputs": [
    {
     "name": "stdout",
     "output_type": "stream",
     "text": [
      "99.07013723253483\n"
     ]
    }
   ],
   "source": [
    "print(decision_tree(X_train, X_test, y_train, y_test))"
   ]
  },
  {
   "cell_type": "code",
   "execution_count": 9,
   "id": "4a0c4aa8",
   "metadata": {
    "execution": {
     "iopub.execute_input": "2022-05-07T09:20:10.732914Z",
     "iopub.status.busy": "2022-05-07T09:20:10.731992Z",
     "iopub.status.idle": "2022-05-07T09:20:11.386093Z",
     "shell.execute_reply": "2022-05-07T09:20:11.385424Z"
    },
    "papermill": {
     "duration": 0.672036,
     "end_time": "2022-05-07T09:20:11.388326",
     "exception": false,
     "start_time": "2022-05-07T09:20:10.716290",
     "status": "completed"
    },
    "tags": []
   },
   "outputs": [
    {
     "data": {
      "text/plain": [
       "Text(0.5, 1.0, 'Predicted vs. Actual Values ')"
      ]
     },
     "execution_count": 9,
     "metadata": {},
     "output_type": "execute_result"
    },
    {
     "data": {
      "image/png": "[encoded data removed]",
      "text/plain": [
       "<Figure size 432x288 with 1 Axes>"
      ]
     },
     "metadata": {
      "needs_background": "light"
     },
     "output_type": "display_data"
    }
   ],
   "source": [
    "\n",
    "from sklearn.linear_model import LinearRegression\n",
    "model = LinearRegression()\n",
    "model.fit(X_train, y_train)\n",
    "y_pred = model.predict(X_test)\n",
    "plt.scatter(y_test,y_pred)\n",
    "plt.xlabel('Y Test (True Values)')\n",
    "plt.ylabel('Predicted Values')\n",
    "plt.title('Predicted vs. Actual Values ')\n"
   ]
  },
  {
   "cell_type": "code",
   "execution_count": 10,
   "id": "764334fd",
   "metadata": {
    "execution": {
     "iopub.execute_input": "2022-05-07T09:20:11.421961Z",
     "iopub.status.busy": "2022-05-07T09:20:11.421439Z",
     "iopub.status.idle": "2022-05-07T09:20:25.892203Z",
     "shell.execute_reply": "2022-05-07T09:20:25.891396Z"
    },
    "papermill": {
     "duration": 14.490553,
     "end_time": "2022-05-07T09:20:25.894759",
     "exception": false,
     "start_time": "2022-05-07T09:20:11.404206",
     "status": "completed"
    },
    "tags": []
   },
   "outputs": [
    {
     "data": {
      "text/plain": [
       "0.9948840264094853"
      ]
     },
     "execution_count": 10,
     "metadata": {},
     "output_type": "execute_result"
    }
   ],
   "source": [
    "from sklearn.linear_model import LogisticRegression\n",
    "from sklearn.ensemble import RandomForestClassifier\n",
    "from sklearn.metrics import accuracy_score\n",
    "\n",
    "\n",
    "model = RandomForestClassifier(n_estimators=100)\n",
    "model.fit(X_train, y_train)\n",
    "y_pred = model.predict(X_test)\n",
    "\n",
    "accuracy_score(y_test,y_pred)\n"
   ]
  },
  {
   "cell_type": "code",
   "execution_count": null,
   "id": "e2e3ac56",
   "metadata": {
    "papermill": {
     "duration": 0.016,
     "end_time": "2022-05-07T09:20:25.927002",
     "exception": false,
     "start_time": "2022-05-07T09:20:25.911002",
     "status": "completed"
    },
    "tags": []
   },
   "outputs": [],
   "source": []
  }
 ],
 "metadata": {
  "kernelspec": {
   "display_name": "Python 3",
   "language": "python",
   "name": "python3"
  },
  "language_info": {
   "codemirror_mode": {
    "name": "ipython",
    "version": 3
   },
   "file_extension": ".py",
   "mimetype": "text/x-python",
   "name": "python",
   "nbconvert_exporter": "python",
   "pygments_lexer": "ipython3",
   "version": "3.7.12"
  },
  "papermill": {
   "default_parameters": {},
   "duration": 814.00791,
   "end_time": "2022-05-07T09:20:28.743932",
   "environment_variables": {},
   "exception": null,
   "input_path": "__notebook__.ipynb",
   "output_path": "__notebook__.ipynb",
   "parameters": {},
   "start_time": "2022-05-07T09:06:54.736022",
   "version": "2.3.4"
  }
 },
 "nbformat": 4,
 "nbformat_minor": 5
}
