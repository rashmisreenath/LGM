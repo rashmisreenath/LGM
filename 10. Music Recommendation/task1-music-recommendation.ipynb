{
 "cells": [
  {
   "cell_type": "code",
   "execution_count": null,
   "id": "8764b95e",
   "metadata": {},
   "outputs": [],
   "source": [
    "LGM VIP"
   ]
  },
  {
   "cell_type": "code",
   "execution_count": null,
   "id": "27f16e58",
   "metadata": {},
   "outputs": [],
   "source": [
    "Rashmi S"
   ]
  },
  {
   "cell_type": "code",
   "execution_count": null,
   "id": "1d204106",
   "metadata": {},
   "outputs": [],
   "source": [
    "Music Recommendation:"
   ]
  },
  {
   "cell_type": "code",
   "execution_count": 1,
   "id": "abe12d97",
   "metadata": {
    "_cell_guid": "b1076dfc-b9ad-4769-8c92-a6c4dae69d19",
    "_uuid": "8f2839f25d086af736a60e9eeb907d3b93b6e0e5",
    "execution": {
     "iopub.execute_input": "2022-04-30T06:31:47.902135Z",
     "iopub.status.busy": "2022-04-30T06:31:47.901580Z",
     "iopub.status.idle": "2022-04-30T06:32:17.443660Z",
     "shell.execute_reply": "2022-04-30T06:32:17.442268Z"
    },
    "papermill": {
     "duration": 29.567441,
     "end_time": "2022-04-30T06:32:17.446105",
     "exception": false,
     "start_time": "2022-04-30T06:31:47.878664",
     "status": "completed"
    },
    "tags": []
   },
   "outputs": [
    {
     "name": "stdout",
     "output_type": "stream",
     "text": [
      "Collecting pyunpack\r\n",
      "  Downloading pyunpack-0.2.2-py2.py3-none-any.whl (3.8 kB)\r\n",
      "Collecting easyprocess\r\n",
      "  Downloading EasyProcess-1.1-py3-none-any.whl (8.7 kB)\r\n",
      "Collecting entrypoint2\r\n",
      "  Downloading entrypoint2-1.0-py3-none-any.whl (9.8 kB)\r\n",
      "Installing collected packages: entrypoint2, easyprocess, pyunpack\r\n",
      "Successfully installed easyprocess-1.1 entrypoint2-1.0 pyunpack-0.2.2\r\n",
      "\u001b[33mWARNING: Running pip as the 'root' user can result in broken permissions and conflicting behaviour with the system package manager. It is recommended to use a virtual environment instead: https://pip.pypa.io/warnings/venv\u001b[0m\u001b[33m\r\n",
      "\u001b[0mCollecting patool\r\n",
      "  Downloading patool-1.12-py2.py3-none-any.whl (77 kB)\r\n",
      "\u001b[2K     \u001b[90m━━━━━━━━━━━━━━━━━━━━━━━━━━━━━━━━━━━━━━━\u001b[0m \u001b[32m77.5/77.5 KB\u001b[0m \u001b[31m793.0 kB/s\u001b[0m eta \u001b[36m0:00:00\u001b[0m\r\n",
      "\u001b[?25hInstalling collected packages: patool\r\n",
      "Successfully installed patool-1.12\r\n",
      "\u001b[33mWARNING: Running pip as the 'root' user can result in broken permissions and conflicting behaviour with the system package manager. It is recommended to use a virtual environment instead: https://pip.pypa.io/warnings/venv\u001b[0m\u001b[33m\r\n",
      "\u001b[0mReading package lists...\n",
      "Building dependency tree...\n",
      "Reading state information...\n",
      "Suggested packages:\n",
      "  p7zip-full\n",
      "The following NEW packages will be installed:\n",
      "  p7zip\n",
      "0 upgraded, 1 newly installed, 0 to remove and 32 not upgraded.\n",
      "Need to get 358 kB of archives.\n",
      "After this operation, 1010 kB of additional disk space will be used.\n",
      "Get:1 http://archive.ubuntu.com/ubuntu focal/universe amd64 p7zip amd64 16.02+dfsg-7build1 [358 kB]\n"
     ]
    },
    {
     "name": "stderr",
     "output_type": "stream",
     "text": [
      "dpkg-preconfigure: unable to re-open stdin: No such file or directory\n"
     ]
    },
    {
     "name": "stdout",
     "output_type": "stream",
     "text": [
      "Fetched 358 kB in 1s (671 kB/s)\n",
      "Selecting previously unselected package p7zip.\r\n",
      "(Reading database ... 105226 files and directories currently installed.)\r\n",
      "Preparing to unpack .../p7zip_16.02+dfsg-7build1_amd64.deb ...\r\n",
      "Unpacking p7zip (16.02+dfsg-7build1) ...\r\n",
      "Setting up p7zip (16.02+dfsg-7build1) ...\r\n",
      "Processing triggers for man-db (2.9.1-1) ...\r\n",
      "/kaggle/working\n"
     ]
    }
   ],
   "source": [
    "import numpy as np\n",
    "import pandas as pd\n",
    "from sklearn import model_selection\n",
    "# import lightgbm as lgb\n",
    "import os\n",
    "import sys\n",
    "import shutil\n",
    "from sklearn.preprocessing import LabelEncoder, MinMaxScaler\n",
    "# from catboost import CatBoostClassifier\n",
    "\n",
    "\n",
    "from lightfm import LightFM\n",
    "import scipy.sparse as sp\n",
    "\n",
    "\n",
    "!pip install pyunpack\n",
    "!pip install patool\n",
    "from pyunpack.cli import Archive\n",
    "os.system('apt-get install p7zip')\n",
    "print(os.getcwd()) #/kaggle/working"
   ]
  },
  {
   "cell_type": "code",
   "execution_count": 2,
   "id": "c59a9547",
   "metadata": {
    "execution": {
     "iopub.execute_input": "2022-04-30T06:32:17.508598Z",
     "iopub.status.busy": "2022-04-30T06:32:17.508312Z",
     "iopub.status.idle": "2022-04-30T06:33:10.139176Z",
     "shell.execute_reply": "2022-04-30T06:33:10.137924Z"
    },
    "papermill": {
     "duration": 52.691938,
     "end_time": "2022-04-30T06:33:10.168851",
     "exception": false,
     "start_time": "2022-04-30T06:32:17.476913",
     "status": "completed"
    },
    "tags": []
   },
   "outputs": [
    {
     "data": {
      "text/html": [
       "<style type='text/css'>\n",
       ".datatable table.frame { margin-bottom: 0; }\n",
       ".datatable table.frame thead { border-bottom: none; }\n",
       ".datatable table.frame tr.coltypes td {  color: #FFFFFF;  line-height: 6px;  padding: 0 0.5em;}\n",
       ".datatable .bool    { background: #DDDD99; }\n",
       ".datatable .object  { background: #565656; }\n",
       ".datatable .int     { background: #5D9E5D; }\n",
       ".datatable .float   { background: #4040CC; }\n",
       ".datatable .str     { background: #CC4040; }\n",
       ".datatable .time    { background: #40CC40; }\n",
       ".datatable .row_index {  background: var(--jp-border-color3);  border-right: 1px solid var(--jp-border-color0);  color: var(--jp-ui-font-color3);  font-size: 9px;}\n",
       ".datatable .frame tbody td { text-align: left; }\n",
       ".datatable .frame tr.coltypes .row_index {  background: var(--jp-border-color0);}\n",
       ".datatable th:nth-child(2) { padding-left: 12px; }\n",
       ".datatable .hellipsis {  color: var(--jp-cell-editor-border-color);}\n",
       ".datatable .vellipsis {  background: var(--jp-layout-color0);  color: var(--jp-cell-editor-border-color);}\n",
       ".datatable .na {  color: var(--jp-cell-editor-border-color);  font-size: 80%;}\n",
       ".datatable .sp {  opacity: 0.25;}\n",
       ".datatable .footer { font-size: 9px; }\n",
       ".datatable .frame_dimensions {  background: var(--jp-border-color3);  border-top: 1px solid var(--jp-border-color0);  color: var(--jp-ui-font-color3);  display: inline-block;  opacity: 0.6;  padding: 1px 10px 1px 5px;}\n",
       "</style>\n"
      ],
      "text/plain": [
       "<IPython.core.display.HTML object>"
      ]
     },
     "metadata": {},
     "output_type": "display_data"
    },
    {
     "name": "stdout",
     "output_type": "stream",
     "text": [
      "Data loading completed!\n",
      "(7377418, 6) (2556790, 6) (2296320, 7) (34403, 7)\n"
     ]
    }
   ],
   "source": [
    "import datatable as dt\n",
    "directory = '/kaggle/working/'\n",
    "Archive('/kaggle/input/kkbox-music-recommendation-challenge/train.csv.7z').extractall(directory)\n",
    "Archive('/kaggle/input/kkbox-music-recommendation-challenge/test.csv.7z').extractall(directory)\n",
    "Archive('/kaggle/input/kkbox-music-recommendation-challenge/songs.csv.7z').extractall(directory)\n",
    "Archive('/kaggle/input/kkbox-music-recommendation-challenge/members.csv.7z').extractall(directory)\n",
    "Archive('/kaggle/input/kkbox-music-recommendation-challenge/song_extra_info.csv.7z').extractall(directory)\n",
    "\n",
    "#sys.exit(\"Error message\")\n",
    "train = dt.fread('./train.csv').to_pandas()\n",
    "test = dt.fread('./test.csv').to_pandas()\n",
    "songs = dt.fread('./songs.csv').to_pandas() #'composer', 'lyricist'\n",
    "members = dt.fread('./members.csv').to_pandas()\n",
    "\n",
    "print('Data loading completed!')\n",
    "print(train.shape, test.shape, songs.shape, members.shape)"
   ]
  },
  {
   "cell_type": "code",
   "execution_count": 3,
   "id": "8706bd46",
   "metadata": {
    "execution": {
     "iopub.execute_input": "2022-04-30T06:33:10.230447Z",
     "iopub.status.busy": "2022-04-30T06:33:10.230134Z",
     "iopub.status.idle": "2022-04-30T06:33:10.237340Z",
     "shell.execute_reply": "2022-04-30T06:33:10.236668Z"
    },
    "papermill": {
     "duration": 0.042375,
     "end_time": "2022-04-30T06:33:10.241368",
     "exception": false,
     "start_time": "2022-04-30T06:33:10.198993",
     "status": "completed"
    },
    "tags": []
   },
   "outputs": [
    {
     "name": "stdout",
     "output_type": "stream",
     "text": [
      "Index(['msno', 'song_id', 'source_system_tab', 'source_screen_name',\n",
      "       'source_type', 'target'],\n",
      "      dtype='object')\n",
      "Index(['id', 'msno', 'song_id', 'source_system_tab', 'source_screen_name',\n",
      "       'source_type'],\n",
      "      dtype='object')\n",
      "Index(['song_id', 'song_length', 'genre_ids', 'artist_name', 'composer',\n",
      "       'lyricist', 'language'],\n",
      "      dtype='object')\n",
      "Index(['msno', 'city', 'bd', 'gender', 'registered_via',\n",
      "       'registration_init_time', 'expiration_date'],\n",
      "      dtype='object')\n"
     ]
    }
   ],
   "source": [
    "print(train.columns)\n",
    "print(test.columns)\n",
    "print(songs.columns)\n",
    "print(members.columns)"
   ]
  },
  {
   "cell_type": "code",
   "execution_count": 4,
   "id": "bd108d67",
   "metadata": {
    "execution": {
     "iopub.execute_input": "2022-04-30T06:33:10.306155Z",
     "iopub.status.busy": "2022-04-30T06:33:10.305562Z",
     "iopub.status.idle": "2022-04-30T06:34:08.708053Z",
     "shell.execute_reply": "2022-04-30T06:34:08.706897Z"
    },
    "papermill": {
     "duration": 58.436922,
     "end_time": "2022-04-30T06:34:08.710684",
     "exception": false,
     "start_time": "2022-04-30T06:33:10.273762",
     "status": "completed"
    },
    "tags": []
   },
   "outputs": [],
   "source": [
    "song_cols = ['song_id', 'song_length', 'genre_ids', 'artist_name', 'composer', 'language']\n",
    "train = train.merge(songs[song_cols], on='song_id', how='left')\n",
    "test = test.merge(songs[song_cols], on='song_id', how='left')\n",
    "\n",
    "mem_cols = ['msno', 'city', 'bd', 'gender']\n",
    "train = train.merge(members[mem_cols], on='msno', how='left')\n",
    "test = test.merge(members[mem_cols], on='msno', how='left')\n",
    "\n",
    "for col in [['msno', 'song_id', 'source_system_tab', 'source_screen_name',\n",
    "             'source_type', 'genre_ids', 'artist_name',\n",
    "             'composer', 'language', 'city', 'gender']]:\n",
    "            train[col] = train[col].astype('category')\n",
    "            test[col] = test[col].astype('category')"
   ]
  },
  {
   "cell_type": "code",
   "execution_count": 5,
   "id": "7b080e96",
   "metadata": {
    "execution": {
     "iopub.execute_input": "2022-04-30T06:34:08.773177Z",
     "iopub.status.busy": "2022-04-30T06:34:08.772888Z",
     "iopub.status.idle": "2022-04-30T06:34:10.705929Z",
     "shell.execute_reply": "2022-04-30T06:34:10.704960Z"
    },
    "papermill": {
     "duration": 1.967473,
     "end_time": "2022-04-30T06:34:10.708616",
     "exception": false,
     "start_time": "2022-04-30T06:34:08.741143",
     "status": "completed"
    },
    "tags": []
   },
   "outputs": [
    {
     "name": "stdout",
     "output_type": "stream",
     "text": [
      "MXIMDXO0j3UpaT7FvOSGW6Y5zfhlh+xYjTqGoUdMzEE=    5819\n",
      "o+5RNlSWrzvrphgBNGIo1FLkGxBgyICns6qXj3nS7Pk=    5537\n",
      "FGtllVqz18RPiwJj/edr2gV78zirAiY/9SmYvia+kCg=    5511\n",
      "KGXNZ/H3VxvET/+rGxlrAe7Gpz2eKMXyuSg3xh8Ij1M=    4217\n",
      "cqjRBV/jWN2ujhc+z/4tz+Mj6xEfflAAt6qBXCqxKvw=    4008\n",
      "                                                ... \n",
      "duhypyeC9me8VBvbMNbCiLfmWorBd8vvQ05O2izI8r4=       1\n",
      "dtt2VylgQ0l2/4PY0lo0MFdObUJqEecjw/iQSqypY+Q=       1\n",
      "99S9vfMxOeK+HzFOaklL5sDEsAdUOHxoGdlGwb9R5/8=       1\n",
      "GUKTK1pT3pWEnlEparWdLZKpCzYaJqBf2dAfoWFDqxQ=       1\n",
      "YKx6/2NcNyyNLUg0erPb40lYocgqS8R3rZJbqypsmLQ=       1\n",
      "Name: msno, Length: 30755, dtype: int64 \n",
      "\n",
      "reXuGcEWDDCnL0K3Th//3DFG4S1ACSpJMzA+CFipo1g=    13973\n",
      "T86YHdD4C9JSc274b1IlMkLuNdz4BQRB50fWWE7hx9g=    13293\n",
      "wBTWuHbjdjxnG1lQcbqnK4FddV24rUhuyrYLd9c/hmk=    13079\n",
      "FynUyq0+drmIARmK1JZ/qcjNZ7DKkqTY6/0O0lTzNUI=    12855\n",
      "PgRtmmESVNtWjoZHO5a1r21vIz9sVZmcJJpFCbRa1LI=    12004\n",
      "                                                ...  \n",
      "RBZxpLNvCiACo2IzK4hv5GC5KvWQgN79ek01ka5xu78=        1\n",
      "RBb7aylXWZrSREUV62FRCqLHK/Wwd1qz1CZVclG+R/s=        1\n",
      "RBcbeXrzRD90DkDBho5KlztUwXjWX7YzkvLNgjQpWhI=        1\n",
      "RBdJc+1HD2rB2N1r35D6aAN9m5xZVqFwnkbMVJmuMMM=        1\n",
      "zzzkIR9d2ggpCr5ofvGZu0JFdjScoIxMgcV3dR4yKh0=        1\n",
      "Name: song_id, Length: 359966, dtype: int64 \n",
      "\n",
      "my library      3684730\n",
      "discover        2179252\n",
      "search           623286\n",
      "radio            476701\n",
      "listen with      212266\n",
      "explore          167949\n",
      "                  18371\n",
      "null               6478\n",
      "notification       6185\n",
      "settings           2200\n",
      "Name: source_system_tab, dtype: int64 \n",
      "\n",
      "Local playlist more     3228202\n",
      "Online playlist more    1294689\n",
      "Radio                    474467\n",
      "Album more               420156\n",
      "                         414804\n",
      "Search                   298487\n",
      "Artist more              252429\n",
      "Discover Feature         244246\n",
      "Discover Chart           213658\n",
      "Others profile more      201795\n",
      "Discover Genre            82202\n",
      "My library                75980\n",
      "Explore                   72342\n",
      "Unknown                   54170\n",
      "Discover New              15955\n",
      "Search Trends             13632\n",
      "Search Home               13482\n",
      "My library_Search          6451\n",
      "Self profile more           212\n",
      "Concert                      47\n",
      "Payment                      12\n",
      "Name: source_screen_name, dtype: int64 \n",
      "\n",
      "local-library             2261399\n",
      "online-playlist           1967924\n",
      "local-playlist            1079503\n",
      "radio                      483109\n",
      "album                      477344\n",
      "top-hits-for-artist        423614\n",
      "song                       244722\n",
      "song-based-playlist        210527\n",
      "listen-with                192842\n",
      "                            21539\n",
      "topic-article-playlist      11194\n",
      "artist                       3038\n",
      "my-daily-playlist             663\n",
      "Name: source_type, dtype: int64 \n",
      "\n",
      "True     3714656\n",
      "False    3662762\n",
      "Name: target, dtype: int64 \n",
      "\n",
      "235415.0    18749\n",
      "258298.0    18440\n",
      "219324.0    17756\n",
      "250357.0    17740\n",
      "265508.0    16452\n",
      "            ...  \n",
      "68405.0         1\n",
      "304911.0        1\n",
      "181953.0        1\n",
      "217323.0        1\n",
      "485575.0        1\n",
      "Name: song_length, Length: 60266, dtype: int64 \n",
      "\n",
      "465              3717690\n",
      "458              1261208\n",
      "921               350311\n",
      "1609              315089\n",
      "444               243600\n",
      "                  ...   \n",
      "465|2122|423           1\n",
      "465|2130|139           1\n",
      "465|2213|2215          1\n",
      "1944|310               1\n",
      "656|1011               1\n",
      "Name: genre_ids, Length: 573, dtype: int64 \n",
      "\n",
      "Various Artists                           303616\n",
      "周杰倫 (Jay Chou)                            186776\n",
      "五月天 (Mayday)                              182088\n",
      "林俊傑 (JJ Lin)                              115325\n",
      "田馥甄 (Hebe)                                104946\n",
      "                                           ...  \n",
      "Michele Boegner                                1\n",
      "Michel Boegner| Les Solistes de France         1\n",
      "Michel                                         1\n",
      "Micheal White                                  1\n",
      "ｗ２ｗＧｏ！Ｇｏ！ぱわふる学園                                1\n",
      "Name: artist_name, Length: 40582, dtype: int64 \n",
      "\n",
      "                                                                                                                                   1675593\n",
      "周杰倫                                                                                                                                 203535\n",
      "阿信                                                                                                                                   90343\n",
      "林俊傑                                                                                                                                  79872\n",
      "陳皓宇                                                                                                                                  58837\n",
      "                                                                                                                                    ...   \n",
      "Dario Nunez| Samantha Moon                                                                                                               1\n",
      "Jascha Heifetz| Johann Sebastian Bach                                                                                                    1\n",
      "Mike Elizondo| Von Carlisle| DeShaun Dupree Holton| Rufus Johnson| Marshall Mathers| Ondre Moore| Denaun Porter| Andre R. Young          1\n",
      "Dario Sanchez Recillas| Julian Englisch| Marvin Bruckwilder| Kassim Auale                                                                1\n",
      "JEREMY                                                                                                                                   1\n",
      "Name: composer, Length: 75859, dtype: int64 \n",
      "\n",
      "3.0     4044643\n",
      "52.0    1864789\n",
      "31.0     656623\n",
      "-1.0     308752\n",
      "17.0     245136\n",
      "10.0     171904\n",
      "24.0      78621\n",
      "59.0       4193\n",
      "45.0       2397\n",
      "38.0        210\n",
      "Name: language, dtype: int64 \n",
      "\n",
      "1     2621293\n",
      "13    1144863\n",
      "5      830128\n",
      "4      545820\n",
      "15     484078\n",
      "22     460330\n",
      "6      275781\n",
      "14     236639\n",
      "12     147133\n",
      "9       95237\n",
      "8       85734\n",
      "18      81780\n",
      "11      71542\n",
      "10      69158\n",
      "21      67097\n",
      "3       63555\n",
      "17      44688\n",
      "7       31621\n",
      "16       7887\n",
      "19       6961\n",
      "20       6093\n",
      "Name: city, dtype: int64 \n",
      "\n",
      "0       2940499\n",
      "25       261906\n",
      "24       258688\n",
      "26       257869\n",
      "22       255731\n",
      "         ...   \n",
      "89           11\n",
      "93           10\n",
      "78            7\n",
      "1051          6\n",
      "76            3\n",
      "Name: bd, Length: 92, dtype: int64 \n",
      "\n",
      "          2961479\n",
      "male      2297623\n",
      "female    2118316\n",
      "Name: gender, dtype: int64 \n",
      "\n"
     ]
    }
   ],
   "source": [
    "for col in train.columns:\n",
    "    print(train[col].value_counts(), \"\\n\")\n",
    "\n",
    "    \n",
    "train = train.drop(['bd', 'msno', 'song_length', 'source_system_tab'], axis = 1)\n",
    "test = test.drop(['bd', 'msno', 'song_length', 'source_system_tab'], axis = 1)"
   ]
  },
  {
   "cell_type": "code",
   "execution_count": 6,
   "id": "2e64cf0a",
   "metadata": {
    "execution": {
     "iopub.execute_input": "2022-04-30T06:34:10.777526Z",
     "iopub.status.busy": "2022-04-30T06:34:10.776647Z",
     "iopub.status.idle": "2022-04-30T06:34:10.784935Z",
     "shell.execute_reply": "2022-04-30T06:34:10.783873Z"
    },
    "papermill": {
     "duration": 0.044498,
     "end_time": "2022-04-30T06:34:10.786969",
     "exception": false,
     "start_time": "2022-04-30T06:34:10.742471",
     "status": "completed"
    },
    "tags": []
   },
   "outputs": [
    {
     "data": {
      "text/plain": [
       "Index(['song_id', 'source_screen_name', 'source_type', 'target', 'genre_ids',\n",
       "       'artist_name', 'composer', 'language', 'city', 'gender'],\n",
       "      dtype='object')"
      ]
     },
     "execution_count": 6,
     "metadata": {},
     "output_type": "execute_result"
    }
   ],
   "source": [
    "train.columns"
   ]
  },
  {
   "cell_type": "code",
   "execution_count": 7,
   "id": "b48d384c",
   "metadata": {
    "execution": {
     "iopub.execute_input": "2022-04-30T06:34:10.861568Z",
     "iopub.status.busy": "2022-04-30T06:34:10.861240Z",
     "iopub.status.idle": "2022-04-30T06:34:10.868054Z",
     "shell.execute_reply": "2022-04-30T06:34:10.867127Z"
    },
    "papermill": {
     "duration": 0.04573,
     "end_time": "2022-04-30T06:34:10.870478",
     "exception": false,
     "start_time": "2022-04-30T06:34:10.824748",
     "status": "completed"
    },
    "tags": []
   },
   "outputs": [
    {
     "data": {
      "text/plain": [
       "Index(['id', 'song_id', 'source_screen_name', 'source_type', 'genre_ids',\n",
       "       'artist_name', 'composer', 'language', 'city', 'gender'],\n",
       "      dtype='object')"
      ]
     },
     "execution_count": 7,
     "metadata": {},
     "output_type": "execute_result"
    }
   ],
   "source": [
    "test.columns"
   ]
  },
  {
   "cell_type": "code",
   "execution_count": 8,
   "id": "a2f83768",
   "metadata": {
    "execution": {
     "iopub.execute_input": "2022-04-30T06:34:10.942847Z",
     "iopub.status.busy": "2022-04-30T06:34:10.941899Z",
     "iopub.status.idle": "2022-04-30T06:34:39.090509Z",
     "shell.execute_reply": "2022-04-30T06:34:39.089524Z"
    },
    "papermill": {
     "duration": 28.187686,
     "end_time": "2022-04-30T06:34:39.093371",
     "exception": false,
     "start_time": "2022-04-30T06:34:10.905685",
     "status": "completed"
    },
    "tags": []
   },
   "outputs": [],
   "source": [
    "df_col = [ 'song_id', 'source_screen_name',\n",
    "       'source_type', 'genre_ids', 'artist_name', 'language', 'city', 'gender']\n",
    "train = train.drop(['composer'], axis=1)\n",
    "test = test.drop(['composer'], axis=1)\n",
    "from sklearn.preprocessing import LabelEncoder\n",
    "\n",
    "for i in range(len(df_col)):\n",
    "    train[df_col[i]] = LabelEncoder().fit_transform(train[df_col[i]])\n",
    "    \n",
    "for i in range(len(df_col)):\n",
    "    test[df_col[i]] = LabelEncoder().fit_transform(test[df_col[i]])"
   ]
  },
  {
   "cell_type": "code",
   "execution_count": 9,
   "id": "4f2d7123",
   "metadata": {
    "execution": {
     "iopub.execute_input": "2022-04-30T06:34:39.161273Z",
     "iopub.status.busy": "2022-04-30T06:34:39.160951Z",
     "iopub.status.idle": "2022-04-30T06:35:07.167636Z",
     "shell.execute_reply": "2022-04-30T06:35:07.166594Z"
    },
    "papermill": {
     "duration": 28.044003,
     "end_time": "2022-04-30T06:35:07.170725",
     "exception": false,
     "start_time": "2022-04-30T06:34:39.126722",
     "status": "completed"
    },
    "tags": []
   },
   "outputs": [],
   "source": [
    "from sklearn.impute import SimpleImputer\n",
    "my_imputer = SimpleImputer()\n",
    "train = my_imputer.fit_transform(train)\n",
    "\n",
    "my_imputer = SimpleImputer()\n",
    "test = my_imputer.fit_transform(test)\n",
    "\n"
   ]
  },
  {
   "cell_type": "code",
   "execution_count": 10,
   "id": "05424e0c",
   "metadata": {
    "execution": {
     "iopub.execute_input": "2022-04-30T06:35:07.239915Z",
     "iopub.status.busy": "2022-04-30T06:35:07.239326Z",
     "iopub.status.idle": "2022-04-30T06:35:07.246230Z",
     "shell.execute_reply": "2022-04-30T06:35:07.245368Z"
    },
    "papermill": {
     "duration": 0.044209,
     "end_time": "2022-04-30T06:35:07.248864",
     "exception": false,
     "start_time": "2022-04-30T06:35:07.204655",
     "status": "completed"
    },
    "tags": []
   },
   "outputs": [
    {
     "data": {
      "text/plain": [
       "array([[7.46790e+04, 8.00000e+00, 7.00000e+00, ..., 8.00000e+00,\n",
       "        0.00000e+00, 0.00000e+00],\n",
       "       [2.23479e+05, 9.00000e+00, 5.00000e+00, ..., 8.00000e+00,\n",
       "        1.10000e+01, 1.00000e+00],\n",
       "       [1.20758e+05, 9.00000e+00, 5.00000e+00, ..., 8.00000e+00,\n",
       "        1.10000e+01, 1.00000e+00],\n",
       "       ...,\n",
       "       [5.15460e+04, 1.60000e+01, 9.00000e+00, ..., 1.00000e+00,\n",
       "        0.00000e+00, 0.00000e+00],\n",
       "       [1.02430e+05, 6.00000e+00, 7.00000e+00, ..., 8.00000e+00,\n",
       "        3.00000e+00, 0.00000e+00],\n",
       "       [1.23573e+05, 6.00000e+00, 7.00000e+00, ..., 8.00000e+00,\n",
       "        3.00000e+00, 0.00000e+00]])"
      ]
     },
     "execution_count": 10,
     "metadata": {},
     "output_type": "execute_result"
    }
   ],
   "source": [
    "train"
   ]
  },
  {
   "cell_type": "code",
   "execution_count": 11,
   "id": "b446dc85",
   "metadata": {
    "execution": {
     "iopub.execute_input": "2022-04-30T06:35:07.316506Z",
     "iopub.status.busy": "2022-04-30T06:35:07.316066Z",
     "iopub.status.idle": "2022-04-30T06:35:07.322703Z",
     "shell.execute_reply": "2022-04-30T06:35:07.321751Z"
    },
    "papermill": {
     "duration": 0.042644,
     "end_time": "2022-04-30T06:35:07.324744",
     "exception": false,
     "start_time": "2022-04-30T06:35:07.282100",
     "status": "completed"
    },
    "tags": []
   },
   "outputs": [
    {
     "data": {
      "text/plain": [
       "array([[0.000000e+00, 1.221910e+05, 9.000000e+00, ..., 1.000000e+00,\n",
       "        0.000000e+00, 0.000000e+00],\n",
       "       [1.000000e+00, 2.179070e+05, 9.000000e+00, ..., 1.000000e+00,\n",
       "        0.000000e+00, 0.000000e+00],\n",
       "       [2.000000e+00, 3.738500e+04, 0.000000e+00, ..., 3.000000e+00,\n",
       "        0.000000e+00, 0.000000e+00],\n",
       "       ...,\n",
       "       [2.556787e+06, 2.194190e+05, 0.000000e+00, ..., 1.000000e+00,\n",
       "        1.100000e+01, 2.000000e+00],\n",
       "       [2.556788e+06, 1.213260e+05, 0.000000e+00, ..., 1.000000e+00,\n",
       "        1.100000e+01, 2.000000e+00],\n",
       "       [2.556789e+06, 1.543080e+05, 0.000000e+00, ..., 1.000000e+00,\n",
       "        1.100000e+01, 2.000000e+00]])"
      ]
     },
     "execution_count": 11,
     "metadata": {},
     "output_type": "execute_result"
    }
   ],
   "source": [
    "test"
   ]
  },
  {
   "cell_type": "code",
   "execution_count": 12,
   "id": "442ba9db",
   "metadata": {
    "execution": {
     "iopub.execute_input": "2022-04-30T06:35:07.392553Z",
     "iopub.status.busy": "2022-04-30T06:35:07.392126Z",
     "iopub.status.idle": "2022-04-30T06:35:07.398226Z",
     "shell.execute_reply": "2022-04-30T06:35:07.397664Z"
    },
    "papermill": {
     "duration": 0.042598,
     "end_time": "2022-04-30T06:35:07.400275",
     "exception": false,
     "start_time": "2022-04-30T06:35:07.357677",
     "status": "completed"
    },
    "tags": []
   },
   "outputs": [],
   "source": [
    "\n",
    "\n",
    "train = pd.DataFrame(train, columns = [ 'song_id', 'source_screen_name','source_type', \n",
    "                                       'target',  'genre_ids', 'artist_name', 'language', \n",
    "                                       'city', 'gender'])\n",
    "test = pd.DataFrame(test, columns = ['id', 'song_id', 'source_screen_name','source_type', \n",
    "                                       'genre_ids', 'artist_name', 'language', \n",
    "                                       'city', 'gender'])"
   ]
  },
  {
   "cell_type": "code",
   "execution_count": 13,
   "id": "40830f36",
   "metadata": {
    "execution": {
     "iopub.execute_input": "2022-04-30T06:35:07.467927Z",
     "iopub.status.busy": "2022-04-30T06:35:07.467602Z",
     "iopub.status.idle": "2022-04-30T06:35:07.497043Z",
     "shell.execute_reply": "2022-04-30T06:35:07.496046Z"
    },
    "papermill": {
     "duration": 0.066222,
     "end_time": "2022-04-30T06:35:07.499504",
     "exception": false,
     "start_time": "2022-04-30T06:35:07.433282",
     "status": "completed"
    },
    "tags": []
   },
   "outputs": [
    {
     "data": {
      "text/html": [
       "<div>\n",
       "<style scoped>\n",
       "    .dataframe tbody tr th:only-of-type {\n",
       "        vertical-align: middle;\n",
       "    }\n",
       "\n",
       "    .dataframe tbody tr th {\n",
       "        vertical-align: top;\n",
       "    }\n",
       "\n",
       "    .dataframe thead th {\n",
       "        text-align: right;\n",
       "    }\n",
       "</style>\n",
       "<table border=\"1\" class=\"dataframe\">\n",
       "  <thead>\n",
       "    <tr style=\"text-align: right;\">\n",
       "      <th></th>\n",
       "      <th>id</th>\n",
       "      <th>song_id</th>\n",
       "      <th>source_screen_name</th>\n",
       "      <th>source_type</th>\n",
       "      <th>genre_ids</th>\n",
       "      <th>artist_name</th>\n",
       "      <th>language</th>\n",
       "      <th>city</th>\n",
       "      <th>gender</th>\n",
       "    </tr>\n",
       "  </thead>\n",
       "  <tbody>\n",
       "    <tr>\n",
       "      <th>0</th>\n",
       "      <td>0.0</td>\n",
       "      <td>122191.0</td>\n",
       "      <td>9.0</td>\n",
       "      <td>4.0</td>\n",
       "      <td>301.0</td>\n",
       "      <td>24889.0</td>\n",
       "      <td>1.0</td>\n",
       "      <td>0.0</td>\n",
       "      <td>0.0</td>\n",
       "    </tr>\n",
       "    <tr>\n",
       "      <th>1</th>\n",
       "      <td>1.0</td>\n",
       "      <td>217907.0</td>\n",
       "      <td>9.0</td>\n",
       "      <td>4.0</td>\n",
       "      <td>307.0</td>\n",
       "      <td>24742.0</td>\n",
       "      <td>1.0</td>\n",
       "      <td>0.0</td>\n",
       "      <td>0.0</td>\n",
       "    </tr>\n",
       "    <tr>\n",
       "      <th>2</th>\n",
       "      <td>2.0</td>\n",
       "      <td>37385.0</td>\n",
       "      <td>0.0</td>\n",
       "      <td>10.0</td>\n",
       "      <td>159.0</td>\n",
       "      <td>21878.0</td>\n",
       "      <td>3.0</td>\n",
       "      <td>0.0</td>\n",
       "      <td>0.0</td>\n",
       "    </tr>\n",
       "    <tr>\n",
       "      <th>3</th>\n",
       "      <td>3.0</td>\n",
       "      <td>224360.0</td>\n",
       "      <td>17.0</td>\n",
       "      <td>8.0</td>\n",
       "      <td>307.0</td>\n",
       "      <td>20718.0</td>\n",
       "      <td>8.0</td>\n",
       "      <td>1.0</td>\n",
       "      <td>2.0</td>\n",
       "    </tr>\n",
       "    <tr>\n",
       "      <th>4</th>\n",
       "      <td>4.0</td>\n",
       "      <td>85597.0</td>\n",
       "      <td>17.0</td>\n",
       "      <td>8.0</td>\n",
       "      <td>430.0</td>\n",
       "      <td>21761.0</td>\n",
       "      <td>0.0</td>\n",
       "      <td>1.0</td>\n",
       "      <td>2.0</td>\n",
       "    </tr>\n",
       "    <tr>\n",
       "      <th>...</th>\n",
       "      <td>...</td>\n",
       "      <td>...</td>\n",
       "      <td>...</td>\n",
       "      <td>...</td>\n",
       "      <td>...</td>\n",
       "      <td>...</td>\n",
       "      <td>...</td>\n",
       "      <td>...</td>\n",
       "      <td>...</td>\n",
       "    </tr>\n",
       "    <tr>\n",
       "      <th>2556785</th>\n",
       "      <td>2556785.0</td>\n",
       "      <td>212075.0</td>\n",
       "      <td>12.0</td>\n",
       "      <td>7.0</td>\n",
       "      <td>101.0</td>\n",
       "      <td>19201.0</td>\n",
       "      <td>8.0</td>\n",
       "      <td>11.0</td>\n",
       "      <td>1.0</td>\n",
       "    </tr>\n",
       "    <tr>\n",
       "      <th>2556786</th>\n",
       "      <td>2556786.0</td>\n",
       "      <td>78127.0</td>\n",
       "      <td>0.0</td>\n",
       "      <td>7.0</td>\n",
       "      <td>301.0</td>\n",
       "      <td>26482.0</td>\n",
       "      <td>1.0</td>\n",
       "      <td>11.0</td>\n",
       "      <td>2.0</td>\n",
       "    </tr>\n",
       "    <tr>\n",
       "      <th>2556787</th>\n",
       "      <td>2556787.0</td>\n",
       "      <td>219419.0</td>\n",
       "      <td>0.0</td>\n",
       "      <td>7.0</td>\n",
       "      <td>301.0</td>\n",
       "      <td>23457.0</td>\n",
       "      <td>1.0</td>\n",
       "      <td>11.0</td>\n",
       "      <td>2.0</td>\n",
       "    </tr>\n",
       "    <tr>\n",
       "      <th>2556788</th>\n",
       "      <td>2556788.0</td>\n",
       "      <td>121326.0</td>\n",
       "      <td>0.0</td>\n",
       "      <td>7.0</td>\n",
       "      <td>307.0</td>\n",
       "      <td>26763.0</td>\n",
       "      <td>1.0</td>\n",
       "      <td>11.0</td>\n",
       "      <td>2.0</td>\n",
       "    </tr>\n",
       "    <tr>\n",
       "      <th>2556789</th>\n",
       "      <td>2556789.0</td>\n",
       "      <td>154308.0</td>\n",
       "      <td>0.0</td>\n",
       "      <td>7.0</td>\n",
       "      <td>301.0</td>\n",
       "      <td>23474.0</td>\n",
       "      <td>1.0</td>\n",
       "      <td>11.0</td>\n",
       "      <td>2.0</td>\n",
       "    </tr>\n",
       "  </tbody>\n",
       "</table>\n",
       "<p>2556790 rows × 9 columns</p>\n",
       "</div>"
      ],
      "text/plain": [
       "                id   song_id  source_screen_name  source_type  genre_ids  \\\n",
       "0              0.0  122191.0                 9.0          4.0      301.0   \n",
       "1              1.0  217907.0                 9.0          4.0      307.0   \n",
       "2              2.0   37385.0                 0.0         10.0      159.0   \n",
       "3              3.0  224360.0                17.0          8.0      307.0   \n",
       "4              4.0   85597.0                17.0          8.0      430.0   \n",
       "...            ...       ...                 ...          ...        ...   \n",
       "2556785  2556785.0  212075.0                12.0          7.0      101.0   \n",
       "2556786  2556786.0   78127.0                 0.0          7.0      301.0   \n",
       "2556787  2556787.0  219419.0                 0.0          7.0      301.0   \n",
       "2556788  2556788.0  121326.0                 0.0          7.0      307.0   \n",
       "2556789  2556789.0  154308.0                 0.0          7.0      301.0   \n",
       "\n",
       "         artist_name  language  city  gender  \n",
       "0            24889.0       1.0   0.0     0.0  \n",
       "1            24742.0       1.0   0.0     0.0  \n",
       "2            21878.0       3.0   0.0     0.0  \n",
       "3            20718.0       8.0   1.0     2.0  \n",
       "4            21761.0       0.0   1.0     2.0  \n",
       "...              ...       ...   ...     ...  \n",
       "2556785      19201.0       8.0  11.0     1.0  \n",
       "2556786      26482.0       1.0  11.0     2.0  \n",
       "2556787      23457.0       1.0  11.0     2.0  \n",
       "2556788      26763.0       1.0  11.0     2.0  \n",
       "2556789      23474.0       1.0  11.0     2.0  \n",
       "\n",
       "[2556790 rows x 9 columns]"
      ]
     },
     "execution_count": 13,
     "metadata": {},
     "output_type": "execute_result"
    }
   ],
   "source": [
    "test"
   ]
  },
  {
   "cell_type": "code",
   "execution_count": 14,
   "id": "cf025684",
   "metadata": {
    "execution": {
     "iopub.execute_input": "2022-04-30T06:35:07.569652Z",
     "iopub.status.busy": "2022-04-30T06:35:07.568829Z",
     "iopub.status.idle": "2022-04-30T06:35:07.889426Z",
     "shell.execute_reply": "2022-04-30T06:35:07.888464Z"
    },
    "papermill": {
     "duration": 0.358208,
     "end_time": "2022-04-30T06:35:07.891936",
     "exception": false,
     "start_time": "2022-04-30T06:35:07.533728",
     "status": "completed"
    },
    "tags": []
   },
   "outputs": [],
   "source": [
    "train = train.astype(int)\n",
    "test = test.astype(int)"
   ]
  },
  {
   "cell_type": "code",
   "execution_count": 15,
   "id": "91046c4b",
   "metadata": {
    "execution": {
     "iopub.execute_input": "2022-04-30T06:35:07.962356Z",
     "iopub.status.busy": "2022-04-30T06:35:07.962008Z",
     "iopub.status.idle": "2022-04-30T06:35:08.267756Z",
     "shell.execute_reply": "2022-04-30T06:35:08.266526Z"
    },
    "papermill": {
     "duration": 0.344521,
     "end_time": "2022-04-30T06:35:08.270924",
     "exception": false,
     "start_time": "2022-04-30T06:35:07.926403",
     "status": "completed"
    },
    "tags": []
   },
   "outputs": [
    {
     "name": "stdout",
     "output_type": "stream",
     "text": [
      "   song_id  source_screen_name  source_type  genre_ids  artist_name  language  \\\n",
      "0    74679                   8            7        286         3277         8   \n",
      "1   223479                   9            5         91        31960         8   \n",
      "2   120758                   9            5         91        21372         8   \n",
      "3    23707                   9            5          7        27439         0   \n",
      "4    33308                   8            7          3         4472         8   \n",
      "\n",
      "   city  gender  \n",
      "0     0       0  \n",
      "1    11       1  \n",
      "2    11       1  \n",
      "3    11       1  \n",
      "4     0       0  \n",
      "   target\n",
      "0       1\n",
      "1       1\n",
      "2       1\n",
      "3       1\n",
      "4       1\n"
     ]
    }
   ],
   "source": [
    "from sklearn.ensemble import RandomForestClassifier\n",
    "\n",
    "from sklearn.model_selection import train_test_split\n",
    "\n",
    "X = train\n",
    "X = X.drop(['target'], axis = 1)\n",
    "y = train[['target']]\n",
    "\n",
    "print(X.head())\n",
    "print(y.head())"
   ]
  },
  {
   "cell_type": "code",
   "execution_count": 16,
   "id": "6042bf8c",
   "metadata": {
    "execution": {
     "iopub.execute_input": "2022-04-30T06:35:08.341679Z",
     "iopub.status.busy": "2022-04-30T06:35:08.340909Z",
     "iopub.status.idle": "2022-04-30T06:41:38.396388Z",
     "shell.execute_reply": "2022-04-30T06:41:38.395145Z"
    },
    "papermill": {
     "duration": 390.093551,
     "end_time": "2022-04-30T06:41:38.398944",
     "exception": false,
     "start_time": "2022-04-30T06:35:08.305393",
     "status": "completed"
    },
    "tags": []
   },
   "outputs": [
    {
     "name": "stdout",
     "output_type": "stream",
     "text": [
      "\n",
      "ACCURACY OF THE MODEL:  0.6204282798051352\n"
     ]
    }
   ],
   "source": [
    "X_train, X_test, y_train, y_test = train_test_split(X, y, test_size = 0.30)\n",
    "clf = RandomForestClassifier(n_estimators = 16)\n",
    "clf.fit(X_train, y_train.values.ravel())\n",
    "y_pred = clf.predict(X_test)\n",
    "from sklearn import metrics \n",
    "print()\n",
    "\n",
    "# using metrics module for accuracy calculation\n",
    "print(\"ACCURACY OF THE MODEL: \", metrics.accuracy_score(y_test, y_pred))"
   ]
  },
  {
   "cell_type": "code",
   "execution_count": 17,
   "id": "0e96fa0a",
   "metadata": {
    "execution": {
     "iopub.execute_input": "2022-04-30T06:41:38.471805Z",
     "iopub.status.busy": "2022-04-30T06:41:38.471488Z",
     "iopub.status.idle": "2022-04-30T06:41:55.969994Z",
     "shell.execute_reply": "2022-04-30T06:41:55.969051Z"
    },
    "papermill": {
     "duration": 17.537401,
     "end_time": "2022-04-30T06:41:55.972274",
     "exception": false,
     "start_time": "2022-04-30T06:41:38.434873",
     "status": "completed"
    },
    "tags": []
   },
   "outputs": [
    {
     "data": {
      "text/html": [
       "<div>\n",
       "<style scoped>\n",
       "    .dataframe tbody tr th:only-of-type {\n",
       "        vertical-align: middle;\n",
       "    }\n",
       "\n",
       "    .dataframe tbody tr th {\n",
       "        vertical-align: top;\n",
       "    }\n",
       "\n",
       "    .dataframe thead th {\n",
       "        text-align: right;\n",
       "    }\n",
       "</style>\n",
       "<table border=\"1\" class=\"dataframe\">\n",
       "  <thead>\n",
       "    <tr style=\"text-align: right;\">\n",
       "      <th></th>\n",
       "      <th>id</th>\n",
       "      <th>target</th>\n",
       "    </tr>\n",
       "  </thead>\n",
       "  <tbody>\n",
       "    <tr>\n",
       "      <th>0</th>\n",
       "      <td>0</td>\n",
       "      <td>1</td>\n",
       "    </tr>\n",
       "    <tr>\n",
       "      <th>1</th>\n",
       "      <td>1</td>\n",
       "      <td>1</td>\n",
       "    </tr>\n",
       "    <tr>\n",
       "      <th>2</th>\n",
       "      <td>2</td>\n",
       "      <td>0</td>\n",
       "    </tr>\n",
       "    <tr>\n",
       "      <th>3</th>\n",
       "      <td>3</td>\n",
       "      <td>0</td>\n",
       "    </tr>\n",
       "    <tr>\n",
       "      <th>4</th>\n",
       "      <td>4</td>\n",
       "      <td>0</td>\n",
       "    </tr>\n",
       "    <tr>\n",
       "      <th>...</th>\n",
       "      <td>...</td>\n",
       "      <td>...</td>\n",
       "    </tr>\n",
       "    <tr>\n",
       "      <th>2556785</th>\n",
       "      <td>2556785</td>\n",
       "      <td>0</td>\n",
       "    </tr>\n",
       "    <tr>\n",
       "      <th>2556786</th>\n",
       "      <td>2556786</td>\n",
       "      <td>1</td>\n",
       "    </tr>\n",
       "    <tr>\n",
       "      <th>2556787</th>\n",
       "      <td>2556787</td>\n",
       "      <td>0</td>\n",
       "    </tr>\n",
       "    <tr>\n",
       "      <th>2556788</th>\n",
       "      <td>2556788</td>\n",
       "      <td>0</td>\n",
       "    </tr>\n",
       "    <tr>\n",
       "      <th>2556789</th>\n",
       "      <td>2556789</td>\n",
       "      <td>0</td>\n",
       "    </tr>\n",
       "  </tbody>\n",
       "</table>\n",
       "<p>2556790 rows × 2 columns</p>\n",
       "</div>"
      ],
      "text/plain": [
       "              id  target\n",
       "0              0       1\n",
       "1              1       1\n",
       "2              2       0\n",
       "3              3       0\n",
       "4              4       0\n",
       "...          ...     ...\n",
       "2556785  2556785       0\n",
       "2556786  2556786       1\n",
       "2556787  2556787       0\n",
       "2556788  2556788       0\n",
       "2556789  2556789       0\n",
       "\n",
       "[2556790 rows x 2 columns]"
      ]
     },
     "execution_count": 17,
     "metadata": {},
     "output_type": "execute_result"
    }
   ],
   "source": [
    "pred = clf.predict(test.drop(['id'], axis = 1))\n",
    "\n",
    "\n",
    "subm = pd.DataFrame()\n",
    "subm['id'] = test['id']\n",
    "subm['target'] = pred\n",
    "\n",
    "subm"
   ]
  },
  {
   "cell_type": "code",
   "execution_count": 18,
   "id": "f2d45a01",
   "metadata": {
    "execution": {
     "iopub.execute_input": "2022-04-30T06:41:56.048298Z",
     "iopub.status.busy": "2022-04-30T06:41:56.047614Z",
     "iopub.status.idle": "2022-04-30T06:42:04.624054Z",
     "shell.execute_reply": "2022-04-30T06:42:04.622869Z"
    },
    "papermill": {
     "duration": 8.617062,
     "end_time": "2022-04-30T06:42:04.626482",
     "exception": false,
     "start_time": "2022-04-30T06:41:56.009420",
     "status": "completed"
    },
    "tags": []
   },
   "outputs": [
    {
     "name": "stdout",
     "output_type": "stream",
     "text": [
      "Done!\n"
     ]
    }
   ],
   "source": [
    "subm.to_csv('submission2.csv.gz', compression = 'gzip', index=False, float_format = '%.5f')\n",
    "print('Done!')"
   ]
  },
  {
   "cell_type": "code",
   "execution_count": null,
   "id": "2efa7c90",
   "metadata": {
    "papermill": {
     "duration": 0.035881,
     "end_time": "2022-04-30T06:42:04.698564",
     "exception": false,
     "start_time": "2022-04-30T06:42:04.662683",
     "status": "completed"
    },
    "tags": []
   },
   "outputs": [],
   "source": []
  }
 ],
 "metadata": {
  "kernelspec": {
   "display_name": "Python 3",
   "language": "python",
   "name": "python3"
  },
  "language_info": {
   "codemirror_mode": {
    "name": "ipython",
    "version": 3
   },
   "file_extension": ".py",
   "mimetype": "text/x-python",
   "name": "python",
   "nbconvert_exporter": "python",
   "pygments_lexer": "ipython3",
   "version": "3.7.12"
  },
  "papermill": {
   "default_parameters": {},
   "duration": 628.910033,
   "end_time": "2022-04-30T06:42:06.361481",
   "environment_variables": {},
   "exception": null,
   "input_path": "__notebook__.ipynb",
   "output_path": "__notebook__.ipynb",
   "parameters": {},
   "start_time": "2022-04-30T06:31:37.451448",
   "version": "2.3.4"
  }
 },
 "nbformat": 4,
 "nbformat_minor": 5
}
